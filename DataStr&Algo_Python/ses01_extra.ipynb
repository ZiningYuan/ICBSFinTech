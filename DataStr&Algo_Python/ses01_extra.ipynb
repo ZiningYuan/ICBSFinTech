{
 "cells": [
  {
   "cell_type": "code",
   "execution_count": 1,
   "metadata": {},
   "outputs": [
    {
     "name": "stdout",
     "output_type": "stream",
     "text": [
      "You're old enough to vote.\n"
     ]
    }
   ],
   "source": [
    "## Question 9: Voting condition\n",
    "# Define a variable called age and assign it the value 19 (or a different integer)\n",
    "age = 19\n",
    "# Write a condition that prints out the string 'You're old enough to vote.' if age is greater than or equal to 18.\n",
    "# Otherwise, the condition prints out 'Sorry, you still have to wait out x years before you can vote.',\n",
    "# where x is the difference between 18 and age\n",
    "# You'll need to use at least an if-structure, a type conversion, and the print function.\n",
    "\n",
    "def eligible_vote(x):\n",
    "    legal = 18\n",
    "    if x >= legal:\n",
    "        print(\"You're old enough to vote.\")\n",
    "    else:\n",
    "        print(\"Sorry, you still need to wait out\" + (legal - x) +\"years before you can vote.\")\n",
    "\n",
    "eligible_vote(age)"
   ]
  },
  {
   "cell_type": "markdown",
   "metadata": {},
   "source": [
    "## Question 10\n",
    "### Just Running the Code\n"
   ]
  },
  {
   "cell_type": "markdown",
   "metadata": {},
   "source": []
  },
  {
   "cell_type": "code",
   "execution_count": 3,
   "metadata": {},
   "outputs": [
    {
     "name": "stdout",
     "output_type": "stream",
     "text": [
      "10 !\n",
      "9 !\n",
      "8 !\n",
      "7 !\n",
      "6 !\n",
      "5 !\n",
      "4 !\n",
      "3 !\n",
      "2 !\n",
      "1 !\n",
      "BOOM!\n"
     ]
    }
   ],
   "source": [
    "number = input(\"Please enter a number.\")\n",
    "number = int(number) # the input is by default a string, so we need to convert it to integer\n",
    "while number > 0:\n",
    "    print(number, \"!\")\n",
    "    number = number - 1\n",
    "print(\"BOOM!\")"
   ]
  },
  {
   "cell_type": "code",
   "execution_count": 6,
   "metadata": {},
   "outputs": [
    {
     "name": "stdout",
     "output_type": "stream",
     "text": [
      "9 !\n",
      "7 !\n",
      "5 !\n",
      "3 !\n",
      "1 !\n",
      "BOOM!\n"
     ]
    }
   ],
   "source": [
    "#part a\n",
    "number = input(\"Please enter a number.\")\n",
    "number = int(number) # the input is by default a string, so we need to convert it to integer\n",
    "while number > 0:\n",
    "    print(number, \"!\")\n",
    "    number = number - 2\n",
    "print(\"BOOM!\")"
   ]
  },
  {
   "cell_type": "code",
   "execution_count": 7,
   "metadata": {},
   "outputs": [
    {
     "name": "stdout",
     "output_type": "stream",
     "text": [
      "1 !\n",
      "2 !\n",
      "3 !\n",
      "4 !\n",
      "5 !\n",
      "6 !\n",
      "7 !\n",
      "8 !\n",
      "9 !\n",
      "10 !\n",
      "BOOM!\n"
     ]
    }
   ],
   "source": [
    "#part b\n",
    "number = input(\"Please enter a number.\")\n",
    "number = int(number) # the input is by default a string, so we need to convert it to integer\n",
    "i = 1\n",
    "while i <= number:\n",
    "    print(i, \"!\")\n",
    "    i = i+1\n",
    "print(\"BOOM!\")"
   ]
  },
  {
   "cell_type": "code",
   "execution_count": 4,
   "metadata": {},
   "outputs": [
    {
     "name": "stdout",
     "output_type": "stream",
     "text": [
      "Pearl!Pearl!Pearl!\n",
      "Pearl!Pearl!Pearl!\n",
      "Pearl!Pearl!Pearl!\n",
      "Pearl!Pearl!Pearl!\n",
      "Pearl!Pearl!Pearl!\n"
     ]
    }
   ],
   "source": [
    "#part c\n",
    "name = input(\"Please enter your name.\")\n",
    "width = input(\"Enter integer width.\")\n",
    "width = int(width) \n",
    "height = input(\"Enter integer height.\")\n",
    "height = int(height)\n",
    "sentence = name + \"!\"\n",
    "cnt = 0\n",
    "while cnt < height:\n",
    "    print (sentence * width)\n",
    "    cnt+=1\n"
   ]
  }
 ],
 "metadata": {
  "kernelspec": {
   "display_name": "Python 3.8.9 64-bit",
   "language": "python",
   "name": "python3"
  },
  "language_info": {
   "codemirror_mode": {
    "name": "ipython",
    "version": 3
   },
   "file_extension": ".py",
   "mimetype": "text/x-python",
   "name": "python",
   "nbconvert_exporter": "python",
   "pygments_lexer": "ipython3",
   "version": "3.8.9"
  },
  "orig_nbformat": 4,
  "vscode": {
   "interpreter": {
    "hash": "31f2aee4e71d21fbe5cf8b01ff0e069b9275f58929596ceb00d14d90e3e16cd6"
   }
  }
 },
 "nbformat": 4,
 "nbformat_minor": 2
}
