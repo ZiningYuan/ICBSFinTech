{
 "cells": [
  {
   "cell_type": "code",
   "execution_count": 21,
   "metadata": {},
   "outputs": [],
   "source": [
    "def guess_the_number(min_value, max_value):\n",
    "    \"\"\"\n",
    "    User must guess the value of a number between min_value and max_value\n",
    "\n",
    "    Parameters:\n",
    "        min_value, max_value (integers)\n",
    "    \"\"\"\n",
    "    import random\n",
    "    x = random.randint(min_value, max_value)\n",
    "    guess = input(\"Guess a number between\"+str(min_value)+'and'+ str(max_value) +\":\")\n",
    "    guess = int(guess)\n",
    "    while guess != x:\n",
    "        if guess < x:\n",
    "            print(\"Too low!\")\n",
    "            guess = input(\"Guess a number between\"+str(min_value)+'and'+ str(max_value) +\":\")\n",
    "            guess = int(guess)\n",
    "        elif guess > x:\n",
    "            print(\"Too high!\")\n",
    "            guess = input(\"Guess a number between\"+str(min_value)+'and'+ str(max_value) +\":\")\n",
    "            guess = int(guess)\n",
    "    print(\"Correct!\")\n",
    "\n"
   ]
  },
  {
   "cell_type": "code",
   "execution_count": 22,
   "metadata": {},
   "outputs": [
    {
     "name": "stdout",
     "output_type": "stream",
     "text": [
      "Too low!\n",
      "Too low!\n",
      "Too low!\n",
      "Too low!\n",
      "Too high!\n",
      "Too high!\n",
      "Too low!\n",
      "Too low!\n",
      "Too low!\n",
      "Too low!\n",
      "Too low!\n",
      "Too low!\n",
      "Too low!\n",
      "Too low!\n",
      "Too low!\n",
      "Too low!\n",
      "Correct!\n"
     ]
    }
   ],
   "source": [
    "guess_the_number(1,100)"
   ]
  },
  {
   "cell_type": "code",
   "execution_count": null,
   "metadata": {},
   "outputs": [],
   "source": []
  }
 ],
 "metadata": {
  "kernelspec": {
   "display_name": "Python 3.8.9 64-bit",
   "language": "python",
   "name": "python3"
  },
  "language_info": {
   "codemirror_mode": {
    "name": "ipython",
    "version": 3
   },
   "file_extension": ".py",
   "mimetype": "text/x-python",
   "name": "python",
   "nbconvert_exporter": "python",
   "pygments_lexer": "ipython3",
   "version": "3.8.9"
  },
  "orig_nbformat": 4,
  "vscode": {
   "interpreter": {
    "hash": "31f2aee4e71d21fbe5cf8b01ff0e069b9275f58929596ceb00d14d90e3e16cd6"
   }
  }
 },
 "nbformat": 4,
 "nbformat_minor": 2
}
